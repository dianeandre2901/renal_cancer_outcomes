{
 "cells": [
  {
   "cell_type": "code",
   "execution_count": 1,
   "id": "6e98d3a5",
   "metadata": {},
   "outputs": [],
   "source": [
    "import openslide\n",
    "import pandas as pd\n",
    "import numpy as np\n",
    "\n",
    "df = pd.read_csv(\"/rds/general/user/dla24/home/thesis/TGCA_dataset/df_clean.csv\")\n",
    "\n",
    "# Helper to classify slides\n",
    "def classify_mpp(mpp):\n",
    "    if np.isclose(mpp, 0.25, atol=0.02):\n",
    "        return \"0.25\"\n",
    "    elif np.isclose(mpp, 0.5, atol=0.02):\n",
    "        return \"0.5\"\n",
    "    elif np.isclose(mpp, 0.233, atol=0.02):  # treat as 40x\n",
    "        return \"0.25\"\n",
    "    else:\n",
    "        return \"other\"\n",
    "\n",
    "mpp_list = []\n",
    "class_list = []\n",
    "\n",
    "for slide_path in df[\"slide_path\"]:\n",
    "    try:\n",
    "        slide = openslide.OpenSlide(slide_path)\n",
    "        mpp_x = float(slide.properties.get(\"openslide.mpp-x\", 0.5))\n",
    "        mpp_list.append(mpp_x)\n",
    "        class_list.append(classify_mpp(mpp_x))\n",
    "    except Exception as e:\n",
    "        print(f\"{slide_path}: ERROR {e}\")\n",
    "        mpp_list.append(None)\n",
    "        class_list.append(\"unknown\")\n",
    "\n",
    "df[\"mpp_x\"] = mpp_list\n",
    "df[\"mpp_class\"] = class_list\n",
    "\n",
    "# Save split CSVs\n",
    "df_025 = df[df[\"mpp_class\"] == \"0.25\"].reset_index(drop=True)\n",
    "df_05  = df[df[\"mpp_class\"] == \"0.5\"].reset_index(drop=True)\n",
    "df_other = df[df[\"mpp_class\"] == \"other\"].reset_index(drop=True)\n",
    "\n",
    "df_025.to_csv(\"slides_mpp025.csv\", index=False)\n",
    "df_05.to_csv(\"slides_mpp05.csv\", index=False)\n",
    "df_other.to_csv(\"slides_mpp_other.csv\", index=False)"
   ]
  },
  {
   "cell_type": "code",
   "execution_count": 2,
   "id": "2042fd1d",
   "metadata": {},
   "outputs": [
    {
     "name": "stdout",
     "output_type": "stream",
     "text": [
      "40x group (mpp 0.25): 396\n",
      "20x group (mpp 0.5): 15\n",
      "Other group: 0\n"
     ]
    }
   ],
   "source": [
    "print(\"40x group (mpp 0.25):\", len(df_025))\n",
    "print(\"20x group (mpp 0.5):\", len(df_05))\n",
    "print(\"Other group:\", len(df_other))"
   ]
  },
  {
   "cell_type": "code",
   "execution_count": 3,
   "id": "8d9781ee",
   "metadata": {},
   "outputs": [
    {
     "name": "stdout",
     "output_type": "stream",
     "text": [
      "Unique mpp_x in 40x group: [0.2325, 0.2457, 0.2462, 0.2465, 0.2471, 0.2472, 0.248, 0.2498, 0.2519, 0.252, 0.2526, 0.2527]\n",
      "Unique mpp_x in 20x group: [0.4942, 0.5014]\n",
      "Unique mpp_x in other group: []\n"
     ]
    }
   ],
   "source": [
    "print(\"Unique mpp_x in 40x group:\", sorted(df_025[\"mpp_x\"].unique()))\n",
    "print(\"Unique mpp_x in 20x group:\", sorted(df_05[\"mpp_x\"].unique()))\n",
    "print(\"Unique mpp_x in other group:\", sorted(df_other[\"mpp_x\"].unique()))"
   ]
  },
  {
   "cell_type": "code",
   "execution_count": 4,
   "id": "f06bfad3",
   "metadata": {},
   "outputs": [
    {
     "name": "stdout",
     "output_type": "stream",
     "text": [
      "Sample 40x group:\n",
      "                                          slide_path   mpp_x\n",
      "0  /rds/general/user/dla24/home/thesis/TGCA_datas...  0.2520\n",
      "1  /rds/general/user/dla24/home/thesis/TGCA_datas...  0.2520\n",
      "2  /rds/general/user/dla24/home/thesis/TGCA_datas...  0.2527\n",
      "3  /rds/general/user/dla24/home/thesis/TGCA_datas...  0.2520\n",
      "4  /rds/general/user/dla24/home/thesis/TGCA_datas...  0.2465\n",
      "\n",
      "Sample 20x group:\n",
      "                                          slide_path   mpp_x\n",
      "0  /rds/general/user/dla24/home/thesis/TGCA_datas...  0.5014\n",
      "1  /rds/general/user/dla24/home/thesis/TGCA_datas...  0.4942\n",
      "2  /rds/general/user/dla24/home/thesis/TGCA_datas...  0.5014\n",
      "3  /rds/general/user/dla24/home/thesis/TGCA_datas...  0.5014\n",
      "4  /rds/general/user/dla24/home/thesis/TGCA_datas...  0.5014\n",
      "\n",
      "Sample other group:\n",
      "Empty DataFrame\n",
      "Columns: [slide_path, mpp_x]\n",
      "Index: []\n"
     ]
    }
   ],
   "source": [
    "print(\"Sample 40x group:\")\n",
    "print(df_025[[\"slide_path\", \"mpp_x\"]].head())\n",
    "\n",
    "print(\"\\nSample 20x group:\")\n",
    "print(df_05[[\"slide_path\", \"mpp_x\"]].head())\n",
    "\n",
    "print(\"\\nSample other group:\")\n",
    "print(df_other[[\"slide_path\", \"mpp_x\"]].head())"
   ]
  },
  {
   "cell_type": "code",
   "execution_count": 1,
   "id": "98585ea1",
   "metadata": {},
   "outputs": [],
   "source": [
    "# train test split\n",
    "import pandas as pd\n",
    "from sklearn.model_selection import train_test_split\n",
    "\n",
    "df = pd.read_csv(\"/rds/general/user/dla24/home/thesis/TGCA_dataset/slides_mpp025.csv\")\n",
    "\n",
    "# First, get unique patient or slide IDs (replace 'slide_id' with 'patient_id' if splitting by patient)\n",
    "unique_slides = df[\"slide_id\"].unique()\n",
    "train_slides, temp_slides = train_test_split(unique_slides, test_size=0.3, random_state=42)\n",
    "val_slides, test_slides   = train_test_split(temp_slides, test_size=0.5, random_state=42)\n",
    "\n",
    "train_df = df[df[\"slide_id\"].isin(train_slides)].reset_index(drop=True)\n",
    "val_df   = df[df[\"slide_id\"].isin(val_slides)].reset_index(drop=True)\n",
    "test_df  = df[df[\"slide_id\"].isin(test_slides)].reset_index(drop=True)\n",
    "\n",
    "train_df.to_csv(\"/rds/general/user/dla24/home/thesis/TGCA_dataset/train_40x.csv\", index=False)\n",
    "val_df.to_csv(\"/rds/general/user/dla24/home/thesis/TGCA_dataset/val_40x.csv\", index=False)\n",
    "test_df.to_csv(\"/rds/general/user/dla24/home/thesis/TGCA_dataset/test_40x.csv\", index=False)"
   ]
  }
 ],
 "metadata": {
  "kernelspec": {
   "display_name": "breast-cancer-env",
   "language": "python",
   "name": "python3"
  },
  "language_info": {
   "codemirror_mode": {
    "name": "ipython",
    "version": 3
   },
   "file_extension": ".py",
   "mimetype": "text/x-python",
   "name": "python",
   "nbconvert_exporter": "python",
   "pygments_lexer": "ipython3",
   "version": "3.9.22"
  }
 },
 "nbformat": 4,
 "nbformat_minor": 5
}
