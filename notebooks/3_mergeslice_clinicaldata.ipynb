{
 "cells": [
  {
   "cell_type": "code",
   "execution_count": null,
   "id": "0d28fb98",
   "metadata": {},
   "outputs": [
    {
     "name": "stdout",
     "output_type": "stream",
     "text": [
      "Collecting openslide-bin\n",
      "  Downloading openslide_bin-4.0.0.8-py3-none-manylinux_2_28_x86_64.whl.metadata (4.5 kB)\n",
      "Downloading openslide_bin-4.0.0.8-py3-none-manylinux_2_28_x86_64.whl (4.3 MB)\n",
      "\u001b[2K   \u001b[90m━━━━━━━━━━━━━━━━━━━━━━━━━━━━━━━━━━━━━━━━\u001b[0m \u001b[32m4.3/4.3 MB\u001b[0m \u001b[31m82.3 MB/s\u001b[0m eta \u001b[36m0:00:00\u001b[0m\n",
      "\u001b[?25hInstalling collected packages: openslide-bin\n",
      "Successfully installed openslide-bin-4.0.0.8\n"
     ]
    }
   ],
   "source": [
    "\n",
    "#!pip install matplotlib\n",
    "\n",
    "import matplotlib.pyplot as pl\n",
    "import os\n",
    "import pandas as pd\n",
    "import numpy as np\n",
    "#!pip install openslide-bin"
   ]
  },
  {
   "cell_type": "code",
   "execution_count": 1,
   "id": "a8759a48",
   "metadata": {},
   "outputs": [
    {
     "name": "stdout",
     "output_type": "stream",
     "text": [
      "                                          slide_path                 slide_id  \\\n",
      "0  /rds/general/user/dla24/home/thesis/TGCA_datas...  TCGA-BP-5168-01Z-00-DX1   \n",
      "1  /rds/general/user/dla24/home/thesis/TGCA_datas...  TCGA-B2-4099-01Z-00-DX1   \n",
      "2  /rds/general/user/dla24/home/thesis/TGCA_datas...  TCGA-B0-4696-01Z-00-DX1   \n",
      "3  /rds/general/user/dla24/home/thesis/TGCA_datas...  TCGA-B0-5710-01Z-00-DX1   \n",
      "4  /rds/general/user/dla24/home/thesis/TGCA_datas...  TCGA-AK-3428-01Z-00-DX1   \n",
      "\n",
      "     patient_id  \n",
      "0  TCGA-BP-5168  \n",
      "1  TCGA-B2-4099  \n",
      "2  TCGA-B0-4696  \n",
      "3  TCGA-B0-5710  \n",
      "4  TCGA-AK-3428  \n"
     ]
    }
   ],
   "source": [
    "import os\n",
    "import pandas as pd\n",
    "\n",
    "slide_dir = \"/rds/general/user/dla24/home/thesis/TGCA_dataset/all_slides\"\n",
    "data = []\n",
    "\n",
    "for slidefile in os.listdir(slide_dir):\n",
    "    if not slidefile.endswith(\".svs\"):\n",
    "        continue\n",
    "    slide_path = os.path.join(slide_dir, slidefile)\n",
    "    # Get slide_id and patient_id\n",
    "    slide_id = slidefile.split(\".\")[0]\n",
    "    patient_id = \"-\".join(slide_id.split(\"-\")[:3])\n",
    "    data.append({\"slide_path\": slide_path, \"slide_id\": slide_id, \"patient_id\": patient_id})\n",
    "\n",
    "df_slides = pd.DataFrame(data)\n",
    "print(df_slides.head())\n"
   ]
  },
  {
   "cell_type": "code",
   "execution_count": 2,
   "id": "e49622d4",
   "metadata": {},
   "outputs": [],
   "source": [
    "df_clinical = pd.read_csv(\"/rds/general/user/dla24/home/thesis/TGCA_dataset/tcga_kirc_clinical_parsed.csv\")\n",
    "# Make sure IDs are formatted the same\n",
    "df_slides['patient_id'] = df_slides['slide_id'].apply(lambda x: \"-\".join(x.split(\"-\")[:3]))\n",
    "df_clinical['patient_id'] = df_clinical['patient_id'].apply(lambda x: x.strip())  # Clean whitespace if any\n"
   ]
  },
  {
   "cell_type": "code",
   "execution_count": 10,
   "id": "a8f20252",
   "metadata": {},
   "outputs": [
    {
     "data": {
      "text/html": [
       "<div>\n",
       "<style scoped>\n",
       "    .dataframe tbody tr th:only-of-type {\n",
       "        vertical-align: middle;\n",
       "    }\n",
       "\n",
       "    .dataframe tbody tr th {\n",
       "        vertical-align: top;\n",
       "    }\n",
       "\n",
       "    .dataframe thead th {\n",
       "        text-align: right;\n",
       "    }\n",
       "</style>\n",
       "<table border=\"1\" class=\"dataframe\">\n",
       "  <thead>\n",
       "    <tr style=\"text-align: right;\">\n",
       "      <th></th>\n",
       "      <th>patient_id</th>\n",
       "      <th>vital_status</th>\n",
       "      <th>os_days</th>\n",
       "      <th>tumor_stage</th>\n",
       "      <th>tumor_grade</th>\n",
       "      <th>age_at_diagnosis</th>\n",
       "    </tr>\n",
       "  </thead>\n",
       "  <tbody>\n",
       "    <tr>\n",
       "      <th>0</th>\n",
       "      <td>TCGA-B0-5088</td>\n",
       "      <td>Dead</td>\n",
       "      <td>563.0</td>\n",
       "      <td>Stage IIIB</td>\n",
       "      <td>NaN</td>\n",
       "      <td>NaN</td>\n",
       "    </tr>\n",
       "    <tr>\n",
       "      <th>1</th>\n",
       "      <td>TCGA-DV-A4W0</td>\n",
       "      <td>Alive</td>\n",
       "      <td>NaN</td>\n",
       "      <td>NaN</td>\n",
       "      <td>NaN</td>\n",
       "      <td>22109.0</td>\n",
       "    </tr>\n",
       "    <tr>\n",
       "      <th>2</th>\n",
       "      <td>TCGA-BP-4162</td>\n",
       "      <td>Alive</td>\n",
       "      <td>3074.0</td>\n",
       "      <td>Stage I</td>\n",
       "      <td>G2</td>\n",
       "      <td>23966.0</td>\n",
       "    </tr>\n",
       "    <tr>\n",
       "      <th>3</th>\n",
       "      <td>TCGA-BP-5174</td>\n",
       "      <td>Alive</td>\n",
       "      <td>2257.0</td>\n",
       "      <td>Stage I</td>\n",
       "      <td>G2</td>\n",
       "      <td>16693.0</td>\n",
       "    </tr>\n",
       "    <tr>\n",
       "      <th>4</th>\n",
       "      <td>TCGA-BP-4759</td>\n",
       "      <td>Alive</td>\n",
       "      <td>2372.0</td>\n",
       "      <td>Stage I</td>\n",
       "      <td>G2</td>\n",
       "      <td>18569.0</td>\n",
       "    </tr>\n",
       "  </tbody>\n",
       "</table>\n",
       "</div>"
      ],
      "text/plain": [
       "     patient_id vital_status  os_days tumor_stage tumor_grade  \\\n",
       "0  TCGA-B0-5088         Dead    563.0  Stage IIIB         NaN   \n",
       "1  TCGA-DV-A4W0        Alive      NaN         NaN         NaN   \n",
       "2  TCGA-BP-4162        Alive   3074.0     Stage I          G2   \n",
       "3  TCGA-BP-5174        Alive   2257.0     Stage I          G2   \n",
       "4  TCGA-BP-4759        Alive   2372.0     Stage I          G2   \n",
       "\n",
       "   age_at_diagnosis  \n",
       "0               NaN  \n",
       "1           22109.0  \n",
       "2           23966.0  \n",
       "3           16693.0  \n",
       "4           18569.0  "
      ]
     },
     "execution_count": 10,
     "metadata": {},
     "output_type": "execute_result"
    }
   ],
   "source": [
    "df_clinical.head()"
   ]
  },
  {
   "cell_type": "code",
   "execution_count": 4,
   "id": "30abebe7",
   "metadata": {},
   "outputs": [
    {
     "name": "stdout",
     "output_type": "stream",
     "text": [
      "                                          slide_path                 slide_id  \\\n",
      "0  /rds/general/user/dla24/home/thesis/TGCA_datas...  TCGA-BP-5168-01Z-00-DX1   \n",
      "1  /rds/general/user/dla24/home/thesis/TGCA_datas...  TCGA-B2-4099-01Z-00-DX1   \n",
      "2  /rds/general/user/dla24/home/thesis/TGCA_datas...  TCGA-B0-4696-01Z-00-DX1   \n",
      "3  /rds/general/user/dla24/home/thesis/TGCA_datas...  TCGA-B0-5710-01Z-00-DX1   \n",
      "4  /rds/general/user/dla24/home/thesis/TGCA_datas...  TCGA-AK-3428-01Z-00-DX1   \n",
      "\n",
      "     patient_id vital_status  os_days tumor_stage tumor_grade  \\\n",
      "0  TCGA-BP-5168         Dead   1463.0         NaN         NaN   \n",
      "1  TCGA-B2-4099        Alive    972.0     Stage I          G3   \n",
      "2  TCGA-B0-4696         Dead    866.0   Stage III          G3   \n",
      "3  TCGA-B0-5710        Alive      NaN         NaN         NaN   \n",
      "4  TCGA-AK-3428        Alive   3728.0   Stage III          G2   \n",
      "\n",
      "   age_at_diagnosis  \n",
      "0               NaN  \n",
      "1           30355.0  \n",
      "2           21317.0  \n",
      "3           22615.0  \n",
      "4           22653.0  \n"
     ]
    }
   ],
   "source": [
    "df_merged = df_slides.merge(df_clinical, on=\"patient_id\", how=\"left\")\n",
    "print(df_merged.head())"
   ]
  },
  {
   "cell_type": "code",
   "execution_count": 11,
   "id": "ab3132bb",
   "metadata": {},
   "outputs": [
    {
     "data": {
      "text/plain": [
       "513"
      ]
     },
     "execution_count": 11,
     "metadata": {},
     "output_type": "execute_result"
    }
   ],
   "source": [
    "len(df_merged['patient_id'].unique())  # can start working with lots of patches of only 17 patients "
   ]
  },
  {
   "cell_type": "code",
   "execution_count": 13,
   "id": "32b5589d",
   "metadata": {},
   "outputs": [
    {
     "data": {
      "text/plain": [
       "<Axes: title={'center': 'Vital Status Distribution'}, xlabel='vital_status'>"
      ]
     },
     "execution_count": 13,
     "metadata": {},
     "output_type": "execute_result"
    },
    {
     "data": {
      "image/png": "[encoded data removed]",
      "text/plain": [
       "<Figure size 640x480 with 1 Axes>"
      ]
     },
     "metadata": {},
     "output_type": "display_data"
    }
   ],
   "source": [
    "df_merged['vital_status'].value_counts().plot(kind='bar', title=\"Vital Status Distribution\")\n"
   ]
  },
  {
   "cell_type": "code",
   "execution_count": null,
   "id": "80206156",
   "metadata": {},
   "outputs": [],
   "source": [
    "# save the merged dataset \n",
    "\n",
    "\n",
    "df_merged = pd.DataFrame(df_merged)\n",
    "df_merged.to_csv(\"/rds/general/user/dla24/home/thesis/TGCA_dataset/df_merged_allslides.csv\", index=False)"
   ]
  },
  {
   "cell_type": "code",
   "execution_count": 20,
   "id": "99556615",
   "metadata": {},
   "outputs": [],
   "source": [
    "\n",
    "\n",
    "patients = df_merged['patient_id'].unique()\n",
    "np.random.seed(42)\n",
    "np.random.shuffle(patients)\n",
    "\n",
    "n_train = int(0.7 * len(patients))\n",
    "n_val = int(0.15 * len(patients))\n",
    "\n",
    "train_pats = patients[:n_train]\n",
    "val_pats = patients[n_train:n_train+n_val]\n",
    "test_pats = patients[n_train+n_val:]\n",
    "\n",
    "df_train = df_merged[df_merged['patient_id'].isin(train_pats)]\n",
    "df_val = df_merged[df_merged['patient_id'].isin(val_pats)]\n",
    "df_test = df_merged[df_merged['patient_id'].isin(test_pats)]\n",
    "\n",
    "df_train.to_csv(\"/rds/general/user/dla24/home/thesis/TGCA_dataset/train.csv\", index=False)\n",
    "df_val.to_csv(\"/rds/general/user/dla24/home/thesis/TGCA_dataset/val.csv\", index=False)\n",
    "df_test.to_csv(\"/rds/general/user/dla24/home/thesis/TGCA_dataset/test.csv\", index=False)"
   ]
  }
 ],
 "metadata": {
  "kernelspec": {
   "display_name": "torch-env",
   "language": "python",
   "name": "python3"
  },
  "language_info": {
   "codemirror_mode": {
    "name": "ipython",
    "version": 3
   },
   "file_extension": ".py",
   "mimetype": "text/x-python",
   "name": "python",
   "nbconvert_exporter": "python",
   "pygments_lexer": "ipython3",
   "version": "3.10.18"
  }
 },
 "nbformat": 4,
 "nbformat_minor": 5
}
